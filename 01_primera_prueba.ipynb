{
 "cells": [
  {
   "attachments": {},
   "cell_type": "markdown",
   "metadata": {},
   "source": [
    "# HOLA"
   ]
  },
  {
   "cell_type": "code",
   "execution_count": 1,
   "metadata": {},
   "outputs": [
    {
     "name": "stdout",
     "output_type": "stream",
     "text": [
      "\t======\t======\t======\t======\t======\n",
      "\t  BIENVENIDO A LA GESTORA FINANCIERA!\n",
      "\t======\t======\t======\t======\t======\n",
      "\n",
      "\n",
      ">>  Determinando formato moneda por default:\n",
      "Simbolo: €\n",
      "\n",
      ">>  PROVEA los siguientes datos por favor:\n",
      "Pasando gestora_de_dinero()\n",
      "Ingresando al programa\n",
      "\n",
      "\n",
      ">> 1)  Definimos VALOR CASA a 2.200.000\n",
      "1) Provea \"valor_casa\" - debe ser un numero\n",
      "()\n",
      "Confirmando valor ->  regz0: € 80.000\n",
      "\n",
      "\n",
      ">> 2)  Definamos un VALOR DE DESEMBOLSO\n",
      "2) Provea \"Desembolso\" - ingrese porcentaje o monto total\n",
      "Ejemplo: 500.000 | ejemplo: 20% | ejemplo: 0.197\n",
      "1- cifra expresada porcentualmente\n",
      "Desembolso -> regz1: € 14.400\n",
      "El porcentaje de desembolso -> regz2: 18,0 %\n",
      "\n",
      "\n",
      ">> 3)  Definimos la cifra ESCRIBANIA\n",
      "3) Provea \"Notariado\" - ingrese porcentaje o monto total\n",
      "Ejemplo: 500.000 | ejemplo: 20% | ejemplo: 0.197\n",
      "1- cifra expresada monetariamente\n",
      "Valor Notariado -> regz3: € 5.000\n",
      "Porcenaje Notariado -> regz4: 6,25 %\n",
      "\n",
      "\n",
      ">> 4)  Definimos PLAZO de hipoteca a 30 años\n",
      "4) Provea \"plazo en años\" - un numero entero\n",
      "Valor Plazo Años -> regz5: 25 Años\n",
      "\n",
      "\n",
      ">> 5)  Definamos TASA DE INTERES\n",
      "5) Provea \"tasa porcentual\" - numero entre 0 y 1 o entre 1 y 100\n",
      "3-\n",
      "Valor Tasa Interes -> regz6: 2,4 %\n",
      "\n",
      "Continuando la ejecución del programa...\n",
      "\n"
     ]
    }
   ],
   "source": [
    "from tabla_seccion_superior import main\n",
    "almacenamiento_datos = main()#TODO: Considerar que dicto es un atributo de clase y no de instancia. Eso quiere decir que sucesivas ejecuciones almacena todos los datos. Y no sabemos como puede responder."
   ]
  },
  {
   "cell_type": "code",
   "execution_count": 2,
   "metadata": {},
   "outputs": [
    {
     "data": {
      "text/plain": [
       "{'z0-valor_casa-hip_alquiler': 80000,\n",
       " 'z1-desembolso-hip_alquiler': 14400,\n",
       " 'z2-desembolso_porcentaje-hip_alquiler': 18.0,\n",
       " 'z3-notariado-hip_alquiler': 5000,\n",
       " 'z4-notariado_pct-hip_alquiler': 6.25,\n",
       " 'z5-plazo_años-hip_alquiler': 25,\n",
       " 'z6-tasa_interes-hip_alquiler': 2.4}"
      ]
     },
     "execution_count": 2,
     "metadata": {},
     "output_type": "execute_result"
    }
   ],
   "source": [
    "almacenamiento_datos.dicto"
   ]
  },
  {
   "cell_type": "code",
   "execution_count": 3,
   "metadata": {},
   "outputs": [
    {
     "data": {
      "text/plain": [
       "{'z0-valor_casa-hip_alquiler': '€ 80.000',\n",
       " 'z1-desembolso-hip_alquiler': '€ 14.400',\n",
       " 'z2-desembolso_porcentaje-hip_alquiler': '18,0 %',\n",
       " 'z3-notariado-hip_alquiler': '€ 5.000',\n",
       " 'z4-notariado_pct-hip_alquiler': '6,25 %',\n",
       " 'z5-plazo_años-hip_alquiler': '25 Años',\n",
       " 'z6-tasa_interes-hip_alquiler': '2,4 %'}"
      ]
     },
     "execution_count": 3,
     "metadata": {},
     "output_type": "execute_result"
    }
   ],
   "source": [
    "almacenamiento_datos.dicture"
   ]
  },
  {
   "cell_type": "code",
   "execution_count": 4,
   "metadata": {},
   "outputs": [],
   "source": [
    "def buscar_valor(valor):\n",
    "    for llave in almacenamiento_datos.dicto:#TODO: almacenamiento datos es una variable global\n",
    "        if llave.count(valor) == 1:\n",
    "            valor = almacenamiento_datos.dicto[llave]\n",
    "            return valor"
   ]
  },
  {
   "cell_type": "code",
   "execution_count": 5,
   "metadata": {},
   "outputs": [
    {
     "data": {
      "text/plain": [
       "290.99979975798556"
      ]
     },
     "execution_count": 5,
     "metadata": {},
     "output_type": "execute_result"
    }
   ],
   "source": [
    "# Calcular la hipoteca en caso de comprar\n",
    "\n",
    "valor_casa = buscar_valor('valor_casa')\n",
    "\n",
    "desembolso = buscar_valor('desembolso')\n",
    "\n",
    "monto_financiado = valor_casa - desembolso\n",
    "\n",
    "plazo_años = buscar_valor('plazo_años')\n",
    "\n",
    "cantidad_cuotas = plazo_años*12\n",
    "\n",
    "tasa_interes = buscar_valor('tasa_interes')\n",
    "\n",
    "interes_mensual = tasa_interes /12 /100\n",
    "\n",
    "# ==============      DATOS      ======================^\n",
    "\n",
    "\n",
    "\n",
    "def calcular_cuota(monto_financiado, interes_mensual, cantidad_cuotas):\n",
    "    return (monto_financiado * interes_mensual)/(1-(1+interes_mensual)**(cantidad_cuotas*(-1)))\n",
    "\n",
    "cuota = calcular_cuota(monto_financiado, interes_mensual, cantidad_cuotas)\n",
    "cuota"
   ]
  },
  {
   "cell_type": "code",
   "execution_count": 9,
   "metadata": {},
   "outputs": [
    {
     "name": "stdout",
     "output_type": "stream",
     "text": [
      ">>  cuota: 01 | pago_interes: 131.2 | amortizacion: 159.8 | nuevo_saldo: 65440.2\n",
      ">>  cuota: 02 | pago_interes: 130.9 | amortizacion: 160.1 | nuevo_saldo: 65280.1\n",
      ">>  cuota: 03 | pago_interes: 130.6 | amortizacion: 160.4 | nuevo_saldo: 65119.6\n",
      ">>  cuota: 04 | pago_interes: 130.2 | amortizacion: 160.8 | nuevo_saldo: 64958.9\n",
      ">>  cuota: 05 | pago_interes: 129.9 | amortizacion: 161.1 | nuevo_saldo: 64797.8\n",
      ">>  cuota: 06 | pago_interes: 129.6 | amortizacion: 161.4 | nuevo_saldo: 64636.4\n",
      ">>  cuota: 07 | pago_interes: 129.3 | amortizacion: 161.7 | nuevo_saldo: 64474.7\n",
      ">>  cuota: 08 | pago_interes: 128.9 | amortizacion: 162.1 | nuevo_saldo: 64312.6\n",
      ">>  cuota: 09 | pago_interes: 128.6 | amortizacion: 162.4 | nuevo_saldo: 64150.2\n",
      ">>  cuota: 10 | pago_interes: 128.3 | amortizacion: 162.7 | nuevo_saldo: 63987.5\n",
      ">>  cuota: 11 | pago_interes: 128.0 | amortizacion: 163.0 | nuevo_saldo: 63824.5\n",
      ">>  cuota: 12 | pago_interes: 127.6 | amortizacion: 163.4 | nuevo_saldo: 63661.2\n",
      ">>  cuota: 13 | pago_interes: 127.3 | amortizacion: 163.7 | nuevo_saldo: 63497.5\n",
      ">>  cuota: 14 | pago_interes: 127.0 | amortizacion: 164.0 | nuevo_saldo: 63333.5\n",
      ">>  cuota: 15 | pago_interes: 126.7 | amortizacion: 164.3 | nuevo_saldo: 63169.2\n",
      ">>  cuota: 16 | pago_interes: 126.3 | amortizacion: 164.7 | nuevo_saldo: 63004.5\n",
      ">>  cuota: 17 | pago_interes: 126.0 | amortizacion: 165.0 | nuevo_saldo: 62839.5\n",
      ">>  cuota: 18 | pago_interes: 125.7 | amortizacion: 165.3 | nuevo_saldo: 62674.2\n",
      ">>  cuota: 19 | pago_interes: 125.3 | amortizacion: 165.7 | nuevo_saldo: 62508.5\n",
      ">>  cuota: 20 | pago_interes: 125.0 | amortizacion: 166.0 | nuevo_saldo: 62342.5\n",
      ">>  cuota: 21 | pago_interes: 124.7 | amortizacion: 166.3 | nuevo_saldo: 62176.2\n",
      ">>  cuota: 22 | pago_interes: 124.4 | amortizacion: 166.6 | nuevo_saldo: 62009.6\n",
      ">>  cuota: 23 | pago_interes: 124.0 | amortizacion: 167.0 | nuevo_saldo: 61842.6\n",
      ">>  cuota: 24 | pago_interes: 123.7 | amortizacion: 167.3 | nuevo_saldo: 61675.3\n",
      ">>  cuota: 25 | pago_interes: 123.4 | amortizacion: 167.6 | nuevo_saldo: 61507.6\n",
      ">>  cuota: 26 | pago_interes: 123.0 | amortizacion: 168.0 | nuevo_saldo: 61339.7\n",
      ">>  cuota: 27 | pago_interes: 122.7 | amortizacion: 168.3 | nuevo_saldo: 61171.3\n",
      ">>  cuota: 28 | pago_interes: 122.3 | amortizacion: 168.7 | nuevo_saldo: 61002.7\n",
      ">>  cuota: 29 | pago_interes: 122.0 | amortizacion: 169.0 | nuevo_saldo: 60833.7\n",
      ">>  cuota: 30 | pago_interes: 121.7 | amortizacion: 169.3 | nuevo_saldo: 60664.3\n",
      ">>  cuota: 31 | pago_interes: 121.3 | amortizacion: 169.7 | nuevo_saldo: 60494.7\n",
      ">>  cuota: 32 | pago_interes: 121.0 | amortizacion: 170.0 | nuevo_saldo: 60324.7\n",
      ">>  cuota: 33 | pago_interes: 120.6 | amortizacion: 170.4 | nuevo_saldo: 60154.3\n",
      ">>  cuota: 34 | pago_interes: 120.3 | amortizacion: 170.7 | nuevo_saldo: 59983.6\n",
      ">>  cuota: 35 | pago_interes: 120.0 | amortizacion: 171.0 | nuevo_saldo: 59812.6\n",
      ">>  cuota: 36 | pago_interes: 119.6 | amortizacion: 171.4 | nuevo_saldo: 59641.2\n",
      ">>  cuota: 37 | pago_interes: 119.3 | amortizacion: 171.7 | nuevo_saldo: 59469.5\n",
      ">>  cuota: 38 | pago_interes: 118.9 | amortizacion: 172.1 | nuevo_saldo: 59297.4\n",
      ">>  cuota: 39 | pago_interes: 118.6 | amortizacion: 172.4 | nuevo_saldo: 59125.0\n",
      ">>  cuota: 40 | pago_interes: 118.3 | amortizacion: 172.7 | nuevo_saldo: 58952.3\n",
      ">>  cuota: 41 | pago_interes: 117.9 | amortizacion: 173.1 | nuevo_saldo: 58779.2\n",
      ">>  cuota: 42 | pago_interes: 117.6 | amortizacion: 173.4 | nuevo_saldo: 58605.7\n",
      ">>  cuota: 43 | pago_interes: 117.2 | amortizacion: 173.8 | nuevo_saldo: 58432.0\n",
      ">>  cuota: 44 | pago_interes: 116.9 | amortizacion: 174.1 | nuevo_saldo: 58257.8\n",
      ">>  cuota: 45 | pago_interes: 116.5 | amortizacion: 174.5 | nuevo_saldo: 58083.3\n",
      ">>  cuota: 46 | pago_interes: 116.2 | amortizacion: 174.8 | nuevo_saldo: 57908.5\n",
      ">>  cuota: 47 | pago_interes: 115.8 | amortizacion: 175.2 | nuevo_saldo: 57733.3\n",
      ">>  cuota: 48 | pago_interes: 115.5 | amortizacion: 175.5 | nuevo_saldo: 57557.8\n",
      ">>  cuota: 49 | pago_interes: 115.1 | amortizacion: 175.9 | nuevo_saldo: 57381.9\n",
      ">>  cuota: 50 | pago_interes: 114.8 | amortizacion: 176.2 | nuevo_saldo: 57205.7\n",
      ">>  cuota: 51 | pago_interes: 114.4 | amortizacion: 176.6 | nuevo_saldo: 57029.1\n",
      ">>  cuota: 52 | pago_interes: 114.1 | amortizacion: 176.9 | nuevo_saldo: 56852.1\n",
      ">>  cuota: 53 | pago_interes: 113.7 | amortizacion: 177.3 | nuevo_saldo: 56674.8\n",
      ">>  cuota: 54 | pago_interes: 113.3 | amortizacion: 177.7 | nuevo_saldo: 56497.2\n",
      ">>  cuota: 55 | pago_interes: 113.0 | amortizacion: 178.0 | nuevo_saldo: 56319.2\n",
      ">>  cuota: 56 | pago_interes: 112.6 | amortizacion: 178.4 | nuevo_saldo: 56140.8\n",
      ">>  cuota: 57 | pago_interes: 112.3 | amortizacion: 178.7 | nuevo_saldo: 55962.1\n",
      ">>  cuota: 58 | pago_interes: 111.9 | amortizacion: 179.1 | nuevo_saldo: 55783.0\n",
      ">>  cuota: 59 | pago_interes: 111.6 | amortizacion: 179.4 | nuevo_saldo: 55603.6\n",
      ">>  cuota: 60 | pago_interes: 111.2 | amortizacion: 179.8 | nuevo_saldo: 55423.8\n",
      ">>  cuota: 61 | pago_interes: 110.8 | amortizacion: 180.2 | nuevo_saldo: 55243.7\n",
      ">>  cuota: 62 | pago_interes: 110.5 | amortizacion: 180.5 | nuevo_saldo: 55063.1\n",
      ">>  cuota: 63 | pago_interes: 110.1 | amortizacion: 180.9 | nuevo_saldo: 54882.3\n",
      ">>  cuota: 64 | pago_interes: 109.8 | amortizacion: 181.2 | nuevo_saldo: 54701.0\n",
      ">>  cuota: 65 | pago_interes: 109.4 | amortizacion: 181.6 | nuevo_saldo: 54519.4\n",
      ">>  cuota: 66 | pago_interes: 109.0 | amortizacion: 182.0 | nuevo_saldo: 54337.5\n",
      ">>  cuota: 67 | pago_interes: 108.7 | amortizacion: 182.3 | nuevo_saldo: 54155.2\n",
      ">>  cuota: 68 | pago_interes: 108.3 | amortizacion: 182.7 | nuevo_saldo: 53972.5\n",
      ">>  cuota: 69 | pago_interes: 107.9 | amortizacion: 183.1 | nuevo_saldo: 53789.4\n",
      ">>  cuota: 70 | pago_interes: 107.6 | amortizacion: 183.4 | nuevo_saldo: 53606.0\n",
      ">>  cuota: 71 | pago_interes: 107.2 | amortizacion: 183.8 | nuevo_saldo: 53422.2\n",
      ">>  cuota: 72 | pago_interes: 106.8 | amortizacion: 184.2 | nuevo_saldo: 53238.0\n",
      ">>  cuota: 73 | pago_interes: 106.5 | amortizacion: 184.5 | nuevo_saldo: 53053.5\n",
      ">>  cuota: 74 | pago_interes: 106.1 | amortizacion: 184.9 | nuevo_saldo: 52868.6\n",
      ">>  cuota: 75 | pago_interes: 105.7 | amortizacion: 185.3 | nuevo_saldo: 52683.4\n",
      ">>  cuota: 76 | pago_interes: 105.4 | amortizacion: 185.6 | nuevo_saldo: 52497.7\n",
      ">>  cuota: 77 | pago_interes: 105.0 | amortizacion: 186.0 | nuevo_saldo: 52311.7\n",
      ">>  cuota: 78 | pago_interes: 104.6 | amortizacion: 186.4 | nuevo_saldo: 52125.4\n",
      ">>  cuota: 79 | pago_interes: 104.3 | amortizacion: 186.7 | nuevo_saldo: 51938.6\n",
      ">>  cuota: 80 | pago_interes: 103.9 | amortizacion: 187.1 | nuevo_saldo: 51751.5\n",
      ">>  cuota: 81 | pago_interes: 103.5 | amortizacion: 187.5 | nuevo_saldo: 51564.0\n",
      ">>  cuota: 82 | pago_interes: 103.1 | amortizacion: 187.9 | nuevo_saldo: 51376.1\n",
      ">>  cuota: 83 | pago_interes: 102.8 | amortizacion: 188.2 | nuevo_saldo: 51187.9\n",
      ">>  cuota: 84 | pago_interes: 102.4 | amortizacion: 188.6 | nuevo_saldo: 50999.2\n",
      ">>  cuota: 85 | pago_interes: 102.0 | amortizacion: 189.0 | nuevo_saldo: 50810.2\n",
      ">>  cuota: 86 | pago_interes: 101.6 | amortizacion: 189.4 | nuevo_saldo: 50620.9\n",
      ">>  cuota: 87 | pago_interes: 101.2 | amortizacion: 189.8 | nuevo_saldo: 50431.1\n",
      ">>  cuota: 88 | pago_interes: 100.9 | amortizacion: 190.1 | nuevo_saldo: 50241.0\n",
      ">>  cuota: 89 | pago_interes: 100.5 | amortizacion: 190.5 | nuevo_saldo: 50050.4\n",
      ">>  cuota: 90 | pago_interes: 100.1 | amortizacion: 190.9 | nuevo_saldo: 49859.5\n",
      ">>  cuota: 91 | pago_interes: 99.7 | amortizacion: 191.3 | nuevo_saldo: 49668.3\n",
      ">>  cuota: 92 | pago_interes: 99.3 | amortizacion: 191.7 | nuevo_saldo: 49476.6\n",
      ">>  cuota: 93 | pago_interes: 99.0 | amortizacion: 192.0 | nuevo_saldo: 49284.6\n",
      ">>  cuota: 94 | pago_interes: 98.6 | amortizacion: 192.4 | nuevo_saldo: 49092.1\n",
      ">>  cuota: 95 | pago_interes: 98.2 | amortizacion: 192.8 | nuevo_saldo: 48899.3\n",
      ">>  cuota: 96 | pago_interes: 97.8 | amortizacion: 193.2 | nuevo_saldo: 48706.1\n",
      ">>  cuota: 97 | pago_interes: 97.4 | amortizacion: 193.6 | nuevo_saldo: 48512.5\n",
      ">>  cuota: 98 | pago_interes: 97.0 | amortizacion: 194.0 | nuevo_saldo: 48318.5\n",
      ">>  cuota: 99 | pago_interes: 96.6 | amortizacion: 194.4 | nuevo_saldo: 48124.2\n",
      ">>  cuota: 100 | pago_interes: 96.2 | amortizacion: 194.8 | nuevo_saldo: 47929.4\n",
      ">>  cuota: 101 | pago_interes: 95.9 | amortizacion: 195.1 | nuevo_saldo: 47734.3\n",
      ">>  cuota: 102 | pago_interes: 95.5 | amortizacion: 195.5 | nuevo_saldo: 47538.8\n",
      ">>  cuota: 103 | pago_interes: 95.1 | amortizacion: 195.9 | nuevo_saldo: 47342.8\n",
      ">>  cuota: 104 | pago_interes: 94.7 | amortizacion: 196.3 | nuevo_saldo: 47146.5\n",
      ">>  cuota: 105 | pago_interes: 94.3 | amortizacion: 196.7 | nuevo_saldo: 46949.8\n",
      ">>  cuota: 106 | pago_interes: 93.9 | amortizacion: 197.1 | nuevo_saldo: 46752.7\n",
      ">>  cuota: 107 | pago_interes: 93.5 | amortizacion: 197.5 | nuevo_saldo: 46555.2\n",
      ">>  cuota: 108 | pago_interes: 93.1 | amortizacion: 197.9 | nuevo_saldo: 46357.3\n",
      ">>  cuota: 109 | pago_interes: 92.7 | amortizacion: 198.3 | nuevo_saldo: 46159.0\n",
      ">>  cuota: 110 | pago_interes: 92.3 | amortizacion: 198.7 | nuevo_saldo: 45960.4\n",
      ">>  cuota: 111 | pago_interes: 91.9 | amortizacion: 199.1 | nuevo_saldo: 45761.3\n",
      ">>  cuota: 112 | pago_interes: 91.5 | amortizacion: 199.5 | nuevo_saldo: 45561.8\n",
      ">>  cuota: 113 | pago_interes: 91.1 | amortizacion: 199.9 | nuevo_saldo: 45361.9\n",
      ">>  cuota: 114 | pago_interes: 90.7 | amortizacion: 200.3 | nuevo_saldo: 45161.7\n",
      ">>  cuota: 115 | pago_interes: 90.3 | amortizacion: 200.7 | nuevo_saldo: 44961.0\n",
      ">>  cuota: 116 | pago_interes: 89.9 | amortizacion: 201.1 | nuevo_saldo: 44759.9\n",
      ">>  cuota: 117 | pago_interes: 89.5 | amortizacion: 201.5 | nuevo_saldo: 44558.4\n",
      ">>  cuota: 118 | pago_interes: 89.1 | amortizacion: 201.9 | nuevo_saldo: 44356.5\n",
      ">>  cuota: 119 | pago_interes: 88.7 | amortizacion: 202.3 | nuevo_saldo: 44154.3\n",
      ">>  cuota: 120 | pago_interes: 88.3 | amortizacion: 202.7 | nuevo_saldo: 43951.6\n",
      ">>  cuota: 121 | pago_interes: 87.9 | amortizacion: 203.1 | nuevo_saldo: 43748.5\n",
      ">>  cuota: 122 | pago_interes: 87.5 | amortizacion: 203.5 | nuevo_saldo: 43545.0\n",
      ">>  cuota: 123 | pago_interes: 87.1 | amortizacion: 203.9 | nuevo_saldo: 43341.1\n",
      ">>  cuota: 124 | pago_interes: 86.7 | amortizacion: 204.3 | nuevo_saldo: 43136.7\n",
      ">>  cuota: 125 | pago_interes: 86.3 | amortizacion: 204.7 | nuevo_saldo: 42932.0\n",
      ">>  cuota: 126 | pago_interes: 85.9 | amortizacion: 205.1 | nuevo_saldo: 42726.9\n",
      ">>  cuota: 127 | pago_interes: 85.5 | amortizacion: 205.5 | nuevo_saldo: 42521.3\n",
      ">>  cuota: 128 | pago_interes: 85.0 | amortizacion: 206.0 | nuevo_saldo: 42315.4\n",
      ">>  cuota: 129 | pago_interes: 84.6 | amortizacion: 206.4 | nuevo_saldo: 42109.0\n",
      ">>  cuota: 130 | pago_interes: 84.2 | amortizacion: 206.8 | nuevo_saldo: 41902.2\n",
      ">>  cuota: 131 | pago_interes: 83.8 | amortizacion: 207.2 | nuevo_saldo: 41695.0\n",
      ">>  cuota: 132 | pago_interes: 83.4 | amortizacion: 207.6 | nuevo_saldo: 41487.4\n",
      ">>  cuota: 133 | pago_interes: 83.0 | amortizacion: 208.0 | nuevo_saldo: 41279.4\n",
      ">>  cuota: 134 | pago_interes: 82.6 | amortizacion: 208.4 | nuevo_saldo: 41070.9\n",
      ">>  cuota: 135 | pago_interes: 82.1 | amortizacion: 208.9 | nuevo_saldo: 40862.1\n",
      ">>  cuota: 136 | pago_interes: 81.7 | amortizacion: 209.3 | nuevo_saldo: 40652.8\n",
      ">>  cuota: 137 | pago_interes: 81.3 | amortizacion: 209.7 | nuevo_saldo: 40443.1\n",
      ">>  cuota: 138 | pago_interes: 80.9 | amortizacion: 210.1 | nuevo_saldo: 40233.0\n",
      ">>  cuota: 139 | pago_interes: 80.5 | amortizacion: 210.5 | nuevo_saldo: 40022.5\n",
      ">>  cuota: 140 | pago_interes: 80.0 | amortizacion: 211.0 | nuevo_saldo: 39811.5\n",
      ">>  cuota: 141 | pago_interes: 79.6 | amortizacion: 211.4 | nuevo_saldo: 39600.1\n",
      ">>  cuota: 142 | pago_interes: 79.2 | amortizacion: 211.8 | nuevo_saldo: 39388.3\n",
      ">>  cuota: 143 | pago_interes: 78.8 | amortizacion: 212.2 | nuevo_saldo: 39176.1\n",
      ">>  cuota: 144 | pago_interes: 78.4 | amortizacion: 212.6 | nuevo_saldo: 38963.5\n",
      ">>  cuota: 145 | pago_interes: 77.9 | amortizacion: 213.1 | nuevo_saldo: 38750.4\n",
      ">>  cuota: 146 | pago_interes: 77.5 | amortizacion: 213.5 | nuevo_saldo: 38536.9\n",
      ">>  cuota: 147 | pago_interes: 77.1 | amortizacion: 213.9 | nuevo_saldo: 38323.0\n",
      ">>  cuota: 148 | pago_interes: 76.6 | amortizacion: 214.4 | nuevo_saldo: 38108.6\n",
      ">>  cuota: 149 | pago_interes: 76.2 | amortizacion: 214.8 | nuevo_saldo: 37893.8\n",
      ">>  cuota: 150 | pago_interes: 75.8 | amortizacion: 215.2 | nuevo_saldo: 37678.6\n",
      ">>  cuota: 151 | pago_interes: 75.4 | amortizacion: 215.6 | nuevo_saldo: 37463.0\n",
      ">>  cuota: 152 | pago_interes: 74.9 | amortizacion: 216.1 | nuevo_saldo: 37246.9\n",
      ">>  cuota: 153 | pago_interes: 74.5 | amortizacion: 216.5 | nuevo_saldo: 37030.4\n",
      ">>  cuota: 154 | pago_interes: 74.1 | amortizacion: 216.9 | nuevo_saldo: 36813.5\n",
      ">>  cuota: 155 | pago_interes: 73.6 | amortizacion: 217.4 | nuevo_saldo: 36596.1\n",
      ">>  cuota: 156 | pago_interes: 73.2 | amortizacion: 217.8 | nuevo_saldo: 36378.3\n",
      ">>  cuota: 157 | pago_interes: 72.8 | amortizacion: 218.2 | nuevo_saldo: 36160.0\n",
      ">>  cuota: 158 | pago_interes: 72.3 | amortizacion: 218.7 | nuevo_saldo: 35941.4\n",
      ">>  cuota: 159 | pago_interes: 71.9 | amortizacion: 219.1 | nuevo_saldo: 35722.2\n",
      ">>  cuota: 160 | pago_interes: 71.4 | amortizacion: 219.6 | nuevo_saldo: 35502.7\n",
      ">>  cuota: 161 | pago_interes: 71.0 | amortizacion: 220.0 | nuevo_saldo: 35282.7\n",
      ">>  cuota: 162 | pago_interes: 70.6 | amortizacion: 220.4 | nuevo_saldo: 35062.3\n",
      ">>  cuota: 163 | pago_interes: 70.1 | amortizacion: 220.9 | nuevo_saldo: 34841.4\n",
      ">>  cuota: 164 | pago_interes: 69.7 | amortizacion: 221.3 | nuevo_saldo: 34620.1\n",
      ">>  cuota: 165 | pago_interes: 69.2 | amortizacion: 221.8 | nuevo_saldo: 34398.3\n",
      ">>  cuota: 166 | pago_interes: 68.8 | amortizacion: 222.2 | nuevo_saldo: 34176.1\n",
      ">>  cuota: 167 | pago_interes: 68.4 | amortizacion: 222.6 | nuevo_saldo: 33953.5\n",
      ">>  cuota: 168 | pago_interes: 67.9 | amortizacion: 223.1 | nuevo_saldo: 33730.4\n",
      ">>  cuota: 169 | pago_interes: 67.5 | amortizacion: 223.5 | nuevo_saldo: 33506.8\n",
      ">>  cuota: 170 | pago_interes: 67.0 | amortizacion: 224.0 | nuevo_saldo: 33282.8\n",
      ">>  cuota: 171 | pago_interes: 66.6 | amortizacion: 224.4 | nuevo_saldo: 33058.4\n",
      ">>  cuota: 172 | pago_interes: 66.1 | amortizacion: 224.9 | nuevo_saldo: 32833.5\n",
      ">>  cuota: 173 | pago_interes: 65.7 | amortizacion: 225.3 | nuevo_saldo: 32608.2\n",
      ">>  cuota: 174 | pago_interes: 65.2 | amortizacion: 225.8 | nuevo_saldo: 32382.4\n",
      ">>  cuota: 175 | pago_interes: 64.8 | amortizacion: 226.2 | nuevo_saldo: 32156.2\n",
      ">>  cuota: 176 | pago_interes: 64.3 | amortizacion: 226.7 | nuevo_saldo: 31929.5\n",
      ">>  cuota: 177 | pago_interes: 63.9 | amortizacion: 227.1 | nuevo_saldo: 31702.3\n",
      ">>  cuota: 178 | pago_interes: 63.4 | amortizacion: 227.6 | nuevo_saldo: 31474.7\n",
      ">>  cuota: 179 | pago_interes: 62.9 | amortizacion: 228.1 | nuevo_saldo: 31246.7\n",
      ">>  cuota: 180 | pago_interes: 62.5 | amortizacion: 228.5 | nuevo_saldo: 31018.2\n",
      ">>  cuota: 181 | pago_interes: 62.0 | amortizacion: 229.0 | nuevo_saldo: 30789.2\n",
      ">>  cuota: 182 | pago_interes: 61.6 | amortizacion: 229.4 | nuevo_saldo: 30559.8\n",
      ">>  cuota: 183 | pago_interes: 61.1 | amortizacion: 229.9 | nuevo_saldo: 30329.9\n",
      ">>  cuota: 184 | pago_interes: 60.7 | amortizacion: 230.3 | nuevo_saldo: 30099.6\n",
      ">>  cuota: 185 | pago_interes: 60.2 | amortizacion: 230.8 | nuevo_saldo: 29868.8\n",
      ">>  cuota: 186 | pago_interes: 59.7 | amortizacion: 231.3 | nuevo_saldo: 29637.5\n",
      ">>  cuota: 187 | pago_interes: 59.3 | amortizacion: 231.7 | nuevo_saldo: 29405.8\n",
      ">>  cuota: 188 | pago_interes: 58.8 | amortizacion: 232.2 | nuevo_saldo: 29173.6\n",
      ">>  cuota: 189 | pago_interes: 58.3 | amortizacion: 232.7 | nuevo_saldo: 28941.0\n",
      ">>  cuota: 190 | pago_interes: 57.9 | amortizacion: 233.1 | nuevo_saldo: 28707.8\n",
      ">>  cuota: 191 | pago_interes: 57.4 | amortizacion: 233.6 | nuevo_saldo: 28474.3\n",
      ">>  cuota: 192 | pago_interes: 56.9 | amortizacion: 234.1 | nuevo_saldo: 28240.2\n",
      ">>  cuota: 193 | pago_interes: 56.5 | amortizacion: 234.5 | nuevo_saldo: 28005.7\n",
      ">>  cuota: 194 | pago_interes: 56.0 | amortizacion: 235.0 | nuevo_saldo: 27770.7\n",
      ">>  cuota: 195 | pago_interes: 55.5 | amortizacion: 235.5 | nuevo_saldo: 27535.2\n",
      ">>  cuota: 196 | pago_interes: 55.1 | amortizacion: 235.9 | nuevo_saldo: 27299.3\n",
      ">>  cuota: 197 | pago_interes: 54.6 | amortizacion: 236.4 | nuevo_saldo: 27062.9\n",
      ">>  cuota: 198 | pago_interes: 54.1 | amortizacion: 236.9 | nuevo_saldo: 26826.0\n",
      ">>  cuota: 199 | pago_interes: 53.7 | amortizacion: 237.3 | nuevo_saldo: 26588.7\n",
      ">>  cuota: 200 | pago_interes: 53.2 | amortizacion: 237.8 | nuevo_saldo: 26350.9\n",
      ">>  cuota: 201 | pago_interes: 52.7 | amortizacion: 238.3 | nuevo_saldo: 26112.6\n",
      ">>  cuota: 202 | pago_interes: 52.2 | amortizacion: 238.8 | nuevo_saldo: 25873.8\n",
      ">>  cuota: 203 | pago_interes: 51.7 | amortizacion: 239.3 | nuevo_saldo: 25634.5\n",
      ">>  cuota: 204 | pago_interes: 51.3 | amortizacion: 239.7 | nuevo_saldo: 25394.8\n",
      ">>  cuota: 205 | pago_interes: 50.8 | amortizacion: 240.2 | nuevo_saldo: 25154.6\n",
      ">>  cuota: 206 | pago_interes: 50.3 | amortizacion: 240.7 | nuevo_saldo: 24913.9\n",
      ">>  cuota: 207 | pago_interes: 49.8 | amortizacion: 241.2 | nuevo_saldo: 24672.7\n",
      ">>  cuota: 208 | pago_interes: 49.3 | amortizacion: 241.7 | nuevo_saldo: 24431.1\n",
      ">>  cuota: 209 | pago_interes: 48.9 | amortizacion: 242.1 | nuevo_saldo: 24188.9\n",
      ">>  cuota: 210 | pago_interes: 48.4 | amortizacion: 242.6 | nuevo_saldo: 23946.3\n",
      ">>  cuota: 211 | pago_interes: 47.9 | amortizacion: 243.1 | nuevo_saldo: 23703.2\n",
      ">>  cuota: 212 | pago_interes: 47.4 | amortizacion: 243.6 | nuevo_saldo: 23459.6\n",
      ">>  cuota: 213 | pago_interes: 46.9 | amortizacion: 244.1 | nuevo_saldo: 23215.5\n",
      ">>  cuota: 214 | pago_interes: 46.4 | amortizacion: 244.6 | nuevo_saldo: 22971.0\n",
      ">>  cuota: 215 | pago_interes: 45.9 | amortizacion: 245.1 | nuevo_saldo: 22725.9\n",
      ">>  cuota: 216 | pago_interes: 45.5 | amortizacion: 245.5 | nuevo_saldo: 22480.4\n",
      ">>  cuota: 217 | pago_interes: 45.0 | amortizacion: 246.0 | nuevo_saldo: 22234.3\n",
      ">>  cuota: 218 | pago_interes: 44.5 | amortizacion: 246.5 | nuevo_saldo: 21987.8\n",
      ">>  cuota: 219 | pago_interes: 44.0 | amortizacion: 247.0 | nuevo_saldo: 21740.8\n",
      ">>  cuota: 220 | pago_interes: 43.5 | amortizacion: 247.5 | nuevo_saldo: 21493.3\n",
      ">>  cuota: 221 | pago_interes: 43.0 | amortizacion: 248.0 | nuevo_saldo: 21245.2\n",
      ">>  cuota: 222 | pago_interes: 42.5 | amortizacion: 248.5 | nuevo_saldo: 20996.7\n",
      ">>  cuota: 223 | pago_interes: 42.0 | amortizacion: 249.0 | nuevo_saldo: 20747.7\n",
      ">>  cuota: 224 | pago_interes: 41.5 | amortizacion: 249.5 | nuevo_saldo: 20498.2\n",
      ">>  cuota: 225 | pago_interes: 41.0 | amortizacion: 250.0 | nuevo_saldo: 20248.2\n",
      ">>  cuota: 226 | pago_interes: 40.5 | amortizacion: 250.5 | nuevo_saldo: 19997.7\n",
      ">>  cuota: 227 | pago_interes: 40.0 | amortizacion: 251.0 | nuevo_saldo: 19746.7\n",
      ">>  cuota: 228 | pago_interes: 39.5 | amortizacion: 251.5 | nuevo_saldo: 19495.2\n",
      ">>  cuota: 229 | pago_interes: 39.0 | amortizacion: 252.0 | nuevo_saldo: 19243.2\n",
      ">>  cuota: 230 | pago_interes: 38.5 | amortizacion: 252.5 | nuevo_saldo: 18990.7\n",
      ">>  cuota: 231 | pago_interes: 38.0 | amortizacion: 253.0 | nuevo_saldo: 18737.7\n",
      ">>  cuota: 232 | pago_interes: 37.5 | amortizacion: 253.5 | nuevo_saldo: 18484.1\n",
      ">>  cuota: 233 | pago_interes: 37.0 | amortizacion: 254.0 | nuevo_saldo: 18230.1\n",
      ">>  cuota: 234 | pago_interes: 36.5 | amortizacion: 254.5 | nuevo_saldo: 17975.6\n",
      ">>  cuota: 235 | pago_interes: 36.0 | amortizacion: 255.0 | nuevo_saldo: 17720.5\n",
      ">>  cuota: 236 | pago_interes: 35.4 | amortizacion: 255.6 | nuevo_saldo: 17465.0\n",
      ">>  cuota: 237 | pago_interes: 34.9 | amortizacion: 256.1 | nuevo_saldo: 17208.9\n",
      ">>  cuota: 238 | pago_interes: 34.4 | amortizacion: 256.6 | nuevo_saldo: 16952.3\n",
      ">>  cuota: 239 | pago_interes: 33.9 | amortizacion: 257.1 | nuevo_saldo: 16695.2\n",
      ">>  cuota: 240 | pago_interes: 33.4 | amortizacion: 257.6 | nuevo_saldo: 16437.6\n",
      ">>  cuota: 241 | pago_interes: 32.9 | amortizacion: 258.1 | nuevo_saldo: 16179.5\n",
      ">>  cuota: 242 | pago_interes: 32.4 | amortizacion: 258.6 | nuevo_saldo: 15920.8\n",
      ">>  cuota: 243 | pago_interes: 31.8 | amortizacion: 259.2 | nuevo_saldo: 15661.7\n",
      ">>  cuota: 244 | pago_interes: 31.3 | amortizacion: 259.7 | nuevo_saldo: 15402.0\n",
      ">>  cuota: 245 | pago_interes: 30.8 | amortizacion: 260.2 | nuevo_saldo: 15141.8\n",
      ">>  cuota: 246 | pago_interes: 30.3 | amortizacion: 260.7 | nuevo_saldo: 14881.1\n",
      ">>  cuota: 247 | pago_interes: 29.8 | amortizacion: 261.2 | nuevo_saldo: 14619.8\n",
      ">>  cuota: 248 | pago_interes: 29.2 | amortizacion: 261.8 | nuevo_saldo: 14358.1\n",
      ">>  cuota: 249 | pago_interes: 28.7 | amortizacion: 262.3 | nuevo_saldo: 14095.8\n",
      ">>  cuota: 250 | pago_interes: 28.2 | amortizacion: 262.8 | nuevo_saldo: 13833.0\n",
      ">>  cuota: 251 | pago_interes: 27.7 | amortizacion: 263.3 | nuevo_saldo: 13569.7\n",
      ">>  cuota: 252 | pago_interes: 27.1 | amortizacion: 263.9 | nuevo_saldo: 13305.8\n",
      ">>  cuota: 253 | pago_interes: 26.6 | amortizacion: 264.4 | nuevo_saldo: 13041.4\n",
      ">>  cuota: 254 | pago_interes: 26.1 | amortizacion: 264.9 | nuevo_saldo: 12776.5\n",
      ">>  cuota: 255 | pago_interes: 25.6 | amortizacion: 265.4 | nuevo_saldo: 12511.1\n",
      ">>  cuota: 256 | pago_interes: 25.0 | amortizacion: 266.0 | nuevo_saldo: 12245.1\n",
      ">>  cuota: 257 | pago_interes: 24.5 | amortizacion: 266.5 | nuevo_saldo: 11978.6\n",
      ">>  cuota: 258 | pago_interes: 24.0 | amortizacion: 267.0 | nuevo_saldo: 11711.5\n",
      ">>  cuota: 259 | pago_interes: 23.4 | amortizacion: 267.6 | nuevo_saldo: 11443.9\n",
      ">>  cuota: 260 | pago_interes: 22.9 | amortizacion: 268.1 | nuevo_saldo: 11175.8\n",
      ">>  cuota: 261 | pago_interes: 22.4 | amortizacion: 268.6 | nuevo_saldo: 10907.2\n",
      ">>  cuota: 262 | pago_interes: 21.8 | amortizacion: 269.2 | nuevo_saldo: 10638.0\n",
      ">>  cuota: 263 | pago_interes: 21.3 | amortizacion: 269.7 | nuevo_saldo: 10368.3\n",
      ">>  cuota: 264 | pago_interes: 20.7 | amortizacion: 270.3 | nuevo_saldo: 10098.0\n",
      ">>  cuota: 265 | pago_interes: 20.2 | amortizacion: 270.8 | nuevo_saldo: 9827.2\n",
      ">>  cuota: 266 | pago_interes: 19.7 | amortizacion: 271.3 | nuevo_saldo: 9555.9\n",
      ">>  cuota: 267 | pago_interes: 19.1 | amortizacion: 271.9 | nuevo_saldo: 9284.0\n",
      ">>  cuota: 268 | pago_interes: 18.6 | amortizacion: 272.4 | nuevo_saldo: 9011.5\n",
      ">>  cuota: 269 | pago_interes: 18.0 | amortizacion: 273.0 | nuevo_saldo: 8738.6\n",
      ">>  cuota: 270 | pago_interes: 17.5 | amortizacion: 273.5 | nuevo_saldo: 8465.0\n",
      ">>  cuota: 271 | pago_interes: 16.9 | amortizacion: 274.1 | nuevo_saldo: 8191.0\n",
      ">>  cuota: 272 | pago_interes: 16.4 | amortizacion: 274.6 | nuevo_saldo: 7916.4\n",
      ">>  cuota: 273 | pago_interes: 15.8 | amortizacion: 275.2 | nuevo_saldo: 7641.2\n",
      ">>  cuota: 274 | pago_interes: 15.3 | amortizacion: 275.7 | nuevo_saldo: 7365.5\n",
      ">>  cuota: 275 | pago_interes: 14.7 | amortizacion: 276.3 | nuevo_saldo: 7089.2\n",
      ">>  cuota: 276 | pago_interes: 14.2 | amortizacion: 276.8 | nuevo_saldo: 6812.4\n",
      ">>  cuota: 277 | pago_interes: 13.6 | amortizacion: 277.4 | nuevo_saldo: 6535.0\n",
      ">>  cuota: 278 | pago_interes: 13.1 | amortizacion: 277.9 | nuevo_saldo: 6257.1\n",
      ">>  cuota: 279 | pago_interes: 12.5 | amortizacion: 278.5 | nuevo_saldo: 5978.6\n",
      ">>  cuota: 280 | pago_interes: 12.0 | amortizacion: 279.0 | nuevo_saldo: 5699.5\n",
      ">>  cuota: 281 | pago_interes: 11.4 | amortizacion: 279.6 | nuevo_saldo: 5419.9\n",
      ">>  cuota: 282 | pago_interes: 10.8 | amortizacion: 280.2 | nuevo_saldo: 5139.8\n",
      ">>  cuota: 283 | pago_interes: 10.3 | amortizacion: 280.7 | nuevo_saldo: 4859.1\n",
      ">>  cuota: 284 | pago_interes: 9.7 | amortizacion: 281.3 | nuevo_saldo: 4577.8\n",
      ">>  cuota: 285 | pago_interes: 9.2 | amortizacion: 281.8 | nuevo_saldo: 4295.9\n",
      ">>  cuota: 286 | pago_interes: 8.6 | amortizacion: 282.4 | nuevo_saldo: 4013.5\n",
      ">>  cuota: 287 | pago_interes: 8.0 | amortizacion: 283.0 | nuevo_saldo: 3730.6\n",
      ">>  cuota: 288 | pago_interes: 7.5 | amortizacion: 283.5 | nuevo_saldo: 3447.0\n",
      ">>  cuota: 289 | pago_interes: 6.9 | amortizacion: 284.1 | nuevo_saldo: 3162.9\n",
      ">>  cuota: 290 | pago_interes: 6.3 | amortizacion: 284.7 | nuevo_saldo: 2878.2\n",
      ">>  cuota: 291 | pago_interes: 5.8 | amortizacion: 285.2 | nuevo_saldo: 2593.0\n",
      ">>  cuota: 292 | pago_interes: 5.2 | amortizacion: 285.8 | nuevo_saldo: 2307.2\n",
      ">>  cuota: 293 | pago_interes: 4.6 | amortizacion: 286.4 | nuevo_saldo: 2020.8\n",
      ">>  cuota: 294 | pago_interes: 4.0 | amortizacion: 287.0 | nuevo_saldo: 1733.8\n",
      ">>  cuota: 295 | pago_interes: 3.5 | amortizacion: 287.5 | nuevo_saldo: 1446.3\n",
      ">>  cuota: 296 | pago_interes: 2.9 | amortizacion: 288.1 | nuevo_saldo: 1158.2\n",
      ">>  cuota: 297 | pago_interes: 2.3 | amortizacion: 288.7 | nuevo_saldo: 869.5\n",
      ">>  cuota: 298 | pago_interes: 1.7 | amortizacion: 289.3 | nuevo_saldo: 580.3\n",
      ">>  cuota: 299 | pago_interes: 1.2 | amortizacion: 289.8 | nuevo_saldo: 290.4\n",
      ">>  cuota: 300 | pago_interes: 0.6 | amortizacion: 290.4 | nuevo_saldo: 0.0\n"
     ]
    }
   ],
   "source": [
    "saldo = monto_financiado\n",
    "lista_banco = []\n",
    "lista_ahorro = []\n",
    "lista_saldo = []\n",
    "for i in range(1, cantidad_cuotas+1):\n",
    "    pago_interes = saldo * interes_mensual\n",
    "    amortizacion = cuota - pago_interes\n",
    "    saldo -= amortizacion\n",
    "    if i < 10:\n",
    "        i = '0'+str(i)\n",
    "    print (f'>>  cuota: {i} | pago_interes: {round(pago_interes, 1)} | amortizacion: {round(amortizacion, 1)} | nuevo_saldo: {round(saldo, 1)}')\n",
    "    lista_banco.append(pago_interes)\n",
    "    lista_ahorro.append(amortizacion)\n",
    "    lista_saldo.append(saldo)"
   ]
  },
  {
   "cell_type": "code",
   "execution_count": 10,
   "metadata": {},
   "outputs": [
    {
     "data": {
      "text/plain": [
       "3059.283077727458"
      ]
     },
     "execution_count": 10,
     "metadata": {},
     "output_type": "execute_result"
    }
   ],
   "source": [
    "suma_2_años_banco = 0.0\n",
    "for i in range(0,24):\n",
    "    suma_2_años_banco += lista_banco[i]\n",
    "\n",
    "suma_2_años_banco\n"
   ]
  },
  {
   "cell_type": "code",
   "execution_count": 12,
   "metadata": {},
   "outputs": [
    {
     "data": {
      "text/plain": [
       "3924.7121164641944"
      ]
     },
     "execution_count": 12,
     "metadata": {},
     "output_type": "execute_result"
    }
   ],
   "source": [
    "suma_2_años_tuyo = 0.0\n",
    "for i in range(0,24):\n",
    "    suma_2_años_tuyo += lista_ahorro[i]\n",
    "\n",
    "suma_2_años_tuyo\n"
   ]
  },
  {
   "cell_type": "raw",
   "metadata": {},
   "source": [
    "La ejecucion arranca correctamente!\n",
    "\n",
    "Automatizar La parte del calculo de la financiacion!\n",
    "\n",
    "Almacenar los valores que tengas que almacenar\n",
    "\n",
    "Mete la tabla de cuotas a pagar en un DataFrame y exporta en CSV (redondear el nuevo saldo) - Mostrar \"hacer consulta a dos años\"\n",
    "\n"
   ]
  },
  {
   "cell_type": "code",
   "execution_count": null,
   "metadata": {},
   "outputs": [],
   "source": []
  },
  {
   "cell_type": "code",
   "execution_count": null,
   "metadata": {},
   "outputs": [],
   "source": []
  },
  {
   "cell_type": "code",
   "execution_count": null,
   "metadata": {},
   "outputs": [],
   "source": []
  },
  {
   "cell_type": "code",
   "execution_count": null,
   "metadata": {},
   "outputs": [],
   "source": []
  },
  {
   "cell_type": "code",
   "execution_count": 4,
   "metadata": {},
   "outputs": [
    {
     "name": "stdout",
     "output_type": "stream",
     "text": [
      "\t======\t======\t======\t======\t======\n",
      "\t  BIENVENIDO A LA GESTORA FINANCIERA!\n",
      "\t======\t======\t======\t======\t======\n",
      "\n",
      ">> 1)  Provea los siguientes datos por favor:\n",
      "6) Provea \"Sueldo Mensual\" - debe ser un numero\n",
      "()\n",
      "7) Provea \"Alquiler Mensual\" - debe ser un numero\n",
      "()\n",
      "8) Provea \"Gastos de Mantenimiento\" - debe ser un numero\n",
      "()\n",
      "9) Provea \"Gasto Suministros\" - debe ser un numero\n",
      "()\n",
      "10) Provea \"Cash Lifestyle\" - debe ser un numero\n",
      "()\n",
      "\n",
      "Creamos ambos escenarios financieros: HIPOTECA Y ALQUILER\n",
      "\n",
      ">> 2)  El escenario de PAGA HIPOTECA es: \n",
      "Sueldo_Mensual: 2375\n",
      "Hip/Alquiler_Mensual: -675\n",
      "Ahorros_Mensuales: 700\n",
      "Gastos_Mantenimiento: -300\n",
      "Gastos_Suministros: -400\n",
      "pct_Cash_Req/Mes: 0.7052631578947368\n",
      "Cash_Lifestyle: -300\n",
      "\n",
      ">> 3)  El escenario de PAGA ALQUILER es: \n",
      "Sueldo_Mensual: 2375\n",
      "Hip/Alquiler_Mensual: -675\n",
      "Ahorros_Mensuales: 1300\n",
      "Gastos_Mantenimiento: 300\n",
      "Gastos_Suministros: -400\n",
      "pct_Cash_Req/Mes: 0.45263157894736844\n",
      "Cash_Lifestyle: -300\n",
      "\n",
      "Terminando el programa\n"
     ]
    }
   ],
   "source": [
    "from tabla_seccion_inferior import main\n",
    "estructura_alquiler, estructura_compra = main()#TODO: aplicar almacenar datos"
   ]
  },
  {
   "cell_type": "code",
   "execution_count": 6,
   "metadata": {},
   "outputs": [
    {
     "data": {
      "text/plain": [
       "{'Sueldo_Mensual': 2375,\n",
       " 'Hip/Alquiler_Mensual': -675,\n",
       " 'Ahorros_Mensuales': 1300,\n",
       " 'Gastos_Mantenimiento': 300,\n",
       " 'Gastos_Suministros': -400,\n",
       " 'pct_Cash_Req/Mes': 0.45263157894736844,\n",
       " 'Cash_Lifestyle': -300}"
      ]
     },
     "execution_count": 6,
     "metadata": {},
     "output_type": "execute_result"
    }
   ],
   "source": [
    "estructura_alquiler"
   ]
  },
  {
   "cell_type": "code",
   "execution_count": 7,
   "metadata": {},
   "outputs": [
    {
     "data": {
      "text/plain": [
       "{'Sueldo_Mensual': 2375,\n",
       " 'Hip/Alquiler_Mensual': -675,\n",
       " 'Ahorros_Mensuales': 700,\n",
       " 'Gastos_Mantenimiento': -300,\n",
       " 'Gastos_Suministros': -400,\n",
       " 'pct_Cash_Req/Mes': 0.7052631578947368,\n",
       " 'Cash_Lifestyle': -300}"
      ]
     },
     "execution_count": 7,
     "metadata": {},
     "output_type": "execute_result"
    }
   ],
   "source": [
    "estructura_compra"
   ]
  },
  {
   "cell_type": "code",
   "execution_count": null,
   "metadata": {},
   "outputs": [],
   "source": []
  }
 ],
 "metadata": {
  "kernelspec": {
   "display_name": "Python 3",
   "language": "python",
   "name": "python3"
  },
  "language_info": {
   "codemirror_mode": {
    "name": "ipython",
    "version": 3
   },
   "file_extension": ".py",
   "mimetype": "text/x-python",
   "name": "python",
   "nbconvert_exporter": "python",
   "pygments_lexer": "ipython3",
   "version": "3.10.2"
  },
  "orig_nbformat": 4,
  "vscode": {
   "interpreter": {
    "hash": "4a8ad0719fb4c7e694a659c43e490ed667120cd373b1de1407c37b4b29da83d3"
   }
  }
 },
 "nbformat": 4,
 "nbformat_minor": 2
}
