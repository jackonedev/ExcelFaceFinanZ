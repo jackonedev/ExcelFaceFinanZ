{
 "cells": [
  {
   "attachments": {},
   "cell_type": "markdown",
   "metadata": {},
   "source": [
    "# HOLA"
   ]
  },
  {
   "cell_type": "code",
   "execution_count": 1,
   "metadata": {},
   "outputs": [
    {
     "name": "stdout",
     "output_type": "stream",
     "text": [
      "\t======\t======\t======\t======\t======\n",
      "\t  BIENVENIDO A LA GESTORA FINANCIERA!\n",
      "\t======\t======\t======\t======\t======\n",
      "\n",
      "\n",
      ">>  Determinando formato moneda por default:\n",
      "Simbolo: €\n",
      "\n",
      ">>  PROVEA los siguientes datos por favor:\n",
      "Pasando gestora_de_dinero()\n",
      "Ingresando al programa\n",
      "\n",
      "\n",
      ">> 1)  Definimos VALOR CASA a 2.200.000\n",
      "1) Provea \"valor_casa\" - debe ser un numero\n",
      "()\n",
      "Confirmando valor ->  regz0: € 2.200.000\n",
      "\n",
      "\n",
      ">> 2)  Definamos un VALOR DE DESEMBOLSO\n",
      "2) Provea \"Desembolso\" - ingrese porcentaje o monto total\n",
      "Ejemplo: 500.000 | ejemplo: 20% | ejemplo: 0.197\n",
      "1- cifra expresada porcentualmente\n",
      "Desembolso -> regz1: € 440.000\n",
      "El porcentaje de desembolso -> regz2: 20,0 %\n",
      "\n",
      "\n",
      ">> 3)  Definimos la cifra ESCRIBANIA\n",
      "3) Provea \"Notariado\" - ingrese porcentaje o monto total\n",
      "Ejemplo: 500.000 | ejemplo: 20% | ejemplo: 0.197\n",
      "1- cifra expresada porcentualmente\n",
      "Valor Notariado -> regz3: € 110.000\n",
      "Porcenaje Notariado -> regz4: 5,0 %\n",
      "\n",
      "\n",
      ">> 4)  Definimos PLAZO de hipoteca a 30 años\n",
      "4) Provea \"plazo en años\" - un numero entero\n",
      "Valor Plazo Años -> regz5: 30 Años\n",
      "\n",
      "\n",
      ">> 5)  Definamos TASA DE INTERES\n",
      "5) Provea \"tasa porcentual\" - numero entre 0 y 1 o entre 1 y 100\n",
      "3-\n",
      "Valor Tasa Interes -> regz6: 2,5 %\n",
      "\n",
      "Continuando la ejecución del programa...\n",
      "\n"
     ]
    }
   ],
   "source": [
    "from tabla_seccion_superior import main\n",
    "almacenamiento_datos = main()#TODO: Considerar que dicto es un atributo de clase y no de instancia."
   ]
  },
  {
   "cell_type": "code",
   "execution_count": 2,
   "metadata": {},
   "outputs": [
    {
     "data": {
      "text/plain": [
       "{'z0-valor_casa-hip_alquiler': 2200000,\n",
       " 'z1-desembolso-hip_alquiler': 440000,\n",
       " 'z2-desembolso_porcentaje-hip_alquiler': 20.0,\n",
       " 'z3-notariado-hip_alquiler': 110000,\n",
       " 'z4-notariado_pct-hip_alquiler': 5.0,\n",
       " 'z5-plazo_años-hip_alquiler': 30,\n",
       " 'z6-tasa_interes-hip_alquiler': 2.5}"
      ]
     },
     "execution_count": 2,
     "metadata": {},
     "output_type": "execute_result"
    }
   ],
   "source": [
    "almacenamiento_datos.dicto"
   ]
  },
  {
   "cell_type": "code",
   "execution_count": 3,
   "metadata": {},
   "outputs": [
    {
     "data": {
      "text/plain": [
       "{'z0-valor_casa-hip_alquiler': '€ 2.200.000',\n",
       " 'z1-desembolso-hip_alquiler': '€ 440.000',\n",
       " 'z2-desembolso_porcentaje-hip_alquiler': '20,0 %',\n",
       " 'z3-notariado-hip_alquiler': '€ 110.000',\n",
       " 'z4-notariado_pct-hip_alquiler': '5,0 %',\n",
       " 'z5-plazo_años-hip_alquiler': '30 Años',\n",
       " 'z6-tasa_interes-hip_alquiler': '2,5 %'}"
      ]
     },
     "execution_count": 3,
     "metadata": {},
     "output_type": "execute_result"
    }
   ],
   "source": [
    "almacenamiento_datos.dicture"
   ]
  },
  {
   "cell_type": "code",
   "execution_count": 8,
   "metadata": {},
   "outputs": [],
   "source": [
    "def buscar_valor(valor):\n",
    "    for llave in almacenamiento_datos.dicto:\n",
    "        if llave.count(valor) == 1:\n",
    "            valor = almacenamiento_datos.dicto[llave]\n",
    "            return valor"
   ]
  },
  {
   "cell_type": "code",
   "execution_count": 13,
   "metadata": {},
   "outputs": [
    {
     "name": "stdout",
     "output_type": "stream",
     "text": [
      "3666.666666666667\n"
     ]
    }
   ],
   "source": [
    "# Calcular la hipoteca en caso de comprar\n",
    "\n",
    "valor_casa = buscar_valor('valor_casa')\n",
    "\n",
    "desembolso = buscar_valor('desembolso')\n",
    "\n",
    "monto_financiado = valor_casa - desembolso\n",
    "\n",
    "plazo_años = buscar_valor('plazo_años')\n",
    "\n",
    "tasa_interes = buscar_valor('tasa_interes')\n",
    "\n",
    "# ============================================^\n",
    "\n",
    "\n",
    "monto_hipoteca_1 = monto_financiado * tasa_interes /12/100\n",
    "monto_hipoteca_1_mes = monto_hipoteca_1 \n",
    "\n",
    "print (monto_hipoteca_1_mes)\n",
    "\n",
    "\n",
    "\n",
    "\n",
    "\n"
   ]
  },
  {
   "cell_type": "code",
   "execution_count": 12,
   "metadata": {},
   "outputs": [
    {
     "data": {
      "text/plain": [
       "0.20833333333333334"
      ]
     },
     "execution_count": 12,
     "metadata": {},
     "output_type": "execute_result"
    }
   ],
   "source": [
    "2.5/12"
   ]
  },
  {
   "cell_type": "code",
   "execution_count": 4,
   "metadata": {},
   "outputs": [
    {
     "name": "stdout",
     "output_type": "stream",
     "text": [
      "\t======\t======\t======\t======\t======\n",
      "\t  BIENVENIDO A LA GESTORA FINANCIERA!\n",
      "\t======\t======\t======\t======\t======\n",
      "\n",
      ">> 1)  Provea los siguientes datos por favor:\n",
      "6) Provea \"Sueldo Mensual\" - debe ser un numero\n",
      "()\n",
      "7) Provea \"Alquiler Mensual\" - debe ser un numero\n",
      "()\n",
      "8) Provea \"Gastos de Mantenimiento\" - debe ser un numero\n",
      "()\n",
      "9) Provea \"Gasto Suministros\" - debe ser un numero\n",
      "()\n",
      "10) Provea \"Cash Lifestyle\" - debe ser un numero\n",
      "()\n",
      "\n",
      "Creamos ambos escenarios financieros: HIPOTECA Y ALQUILER\n",
      "\n",
      ">> 2)  El escenario de PAGA HIPOTECA es: \n",
      "Sueldo_Mensual: 2375\n",
      "Hip/Alquiler_Mensual: -675\n",
      "Ahorros_Mensuales: 700\n",
      "Gastos_Mantenimiento: -300\n",
      "Gastos_Suministros: -400\n",
      "pct_Cash_Req/Mes: 0.7052631578947368\n",
      "Cash_Lifestyle: -300\n",
      "\n",
      ">> 3)  El escenario de PAGA ALQUILER es: \n",
      "Sueldo_Mensual: 2375\n",
      "Hip/Alquiler_Mensual: -675\n",
      "Ahorros_Mensuales: 1300\n",
      "Gastos_Mantenimiento: 300\n",
      "Gastos_Suministros: -400\n",
      "pct_Cash_Req/Mes: 0.45263157894736844\n",
      "Cash_Lifestyle: -300\n",
      "\n",
      "Terminando el programa\n"
     ]
    }
   ],
   "source": [
    "from tabla_seccion_inferior import main\n",
    "estructura_alquiler, estructura_compra = main()"
   ]
  },
  {
   "cell_type": "code",
   "execution_count": 6,
   "metadata": {},
   "outputs": [
    {
     "data": {
      "text/plain": [
       "{'Sueldo_Mensual': 2375,\n",
       " 'Hip/Alquiler_Mensual': -675,\n",
       " 'Ahorros_Mensuales': 1300,\n",
       " 'Gastos_Mantenimiento': 300,\n",
       " 'Gastos_Suministros': -400,\n",
       " 'pct_Cash_Req/Mes': 0.45263157894736844,\n",
       " 'Cash_Lifestyle': -300}"
      ]
     },
     "execution_count": 6,
     "metadata": {},
     "output_type": "execute_result"
    }
   ],
   "source": [
    "estructura_alquiler"
   ]
  },
  {
   "cell_type": "code",
   "execution_count": 7,
   "metadata": {},
   "outputs": [
    {
     "data": {
      "text/plain": [
       "{'Sueldo_Mensual': 2375,\n",
       " 'Hip/Alquiler_Mensual': -675,\n",
       " 'Ahorros_Mensuales': 700,\n",
       " 'Gastos_Mantenimiento': -300,\n",
       " 'Gastos_Suministros': -400,\n",
       " 'pct_Cash_Req/Mes': 0.7052631578947368,\n",
       " 'Cash_Lifestyle': -300}"
      ]
     },
     "execution_count": 7,
     "metadata": {},
     "output_type": "execute_result"
    }
   ],
   "source": [
    "estructura_compra"
   ]
  },
  {
   "cell_type": "code",
   "execution_count": null,
   "metadata": {},
   "outputs": [],
   "source": []
  }
 ],
 "metadata": {
  "kernelspec": {
   "display_name": "Python 3",
   "language": "python",
   "name": "python3"
  },
  "language_info": {
   "codemirror_mode": {
    "name": "ipython",
    "version": 3
   },
   "file_extension": ".py",
   "mimetype": "text/x-python",
   "name": "python",
   "nbconvert_exporter": "python",
   "pygments_lexer": "ipython3",
   "version": "3.10.2"
  },
  "orig_nbformat": 4,
  "vscode": {
   "interpreter": {
    "hash": "4a8ad0719fb4c7e694a659c43e490ed667120cd373b1de1407c37b4b29da83d3"
   }
  }
 },
 "nbformat": 4,
 "nbformat_minor": 2
}
